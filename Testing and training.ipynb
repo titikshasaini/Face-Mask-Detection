{
 "cells": [
  {
   "cell_type": "code",
   "execution_count": 3,
   "id": "fa89c217",
   "metadata": {},
   "outputs": [],
   "source": [
    "import numpy as np\n",
    "import cv2"
   ]
  },
  {
   "cell_type": "code",
   "execution_count": 4,
   "id": "56b0f244",
   "metadata": {},
   "outputs": [],
   "source": [
    "with_mask = np.load('with_mask.npy')\n",
    "without_mask= np.load('without_mask.npy')"
   ]
  },
  {
   "cell_type": "code",
   "execution_count": 5,
   "id": "825f6d5a",
   "metadata": {},
   "outputs": [
    {
     "data": {
      "text/plain": [
       "(400, 50, 50, 3)"
      ]
     },
     "execution_count": 5,
     "metadata": {},
     "output_type": "execute_result"
    }
   ],
   "source": [
    "with_mask.shape"
   ]
  },
  {
   "cell_type": "code",
   "execution_count": 6,
   "id": "9afc4110",
   "metadata": {},
   "outputs": [
    {
     "data": {
      "text/plain": [
       "(400, 50, 50, 3)"
      ]
     },
     "execution_count": 6,
     "metadata": {},
     "output_type": "execute_result"
    }
   ],
   "source": [
    "without_mask.shape"
   ]
  },
  {
   "cell_type": "code",
   "execution_count": 7,
   "id": "504655bd",
   "metadata": {},
   "outputs": [],
   "source": [
    "with_mask=with_mask.reshape(400, 50*50*3) #converting 4-d to 2-d\n",
    "without_mask=without_mask.reshape(400, 50*50*3)"
   ]
  },
  {
   "cell_type": "code",
   "execution_count": 8,
   "id": "a08ba728",
   "metadata": {},
   "outputs": [],
   "source": [
    "#r_ in numpy is used to concatenate the rows\n",
    "X= np.r_[with_mask, without_mask]"
   ]
  },
  {
   "cell_type": "code",
   "execution_count": 9,
   "id": "af8d5a11",
   "metadata": {},
   "outputs": [
    {
     "data": {
      "text/plain": [
       "array([[255,   0, 255, ..., 255,   0, 255],\n",
       "       [255,   0, 255, ..., 255,   0, 255],\n",
       "       [255,   0, 255, ..., 255,   0, 255],\n",
       "       ...,\n",
       "       [255,   0, 255, ..., 255,   0, 255],\n",
       "       [255,   0, 255, ..., 238,   3, 239],\n",
       "       [255,   0, 255, ..., 227,   4, 229]], dtype=uint8)"
      ]
     },
     "execution_count": 9,
     "metadata": {},
     "output_type": "execute_result"
    }
   ],
   "source": [
    "X"
   ]
  },
  {
   "cell_type": "code",
   "execution_count": 10,
   "id": "2ecf3999",
   "metadata": {},
   "outputs": [
    {
     "data": {
      "text/plain": [
       "(800, 7500)"
      ]
     },
     "execution_count": 10,
     "metadata": {},
     "output_type": "execute_result"
    }
   ],
   "source": [
    "X.shape"
   ]
  },
  {
   "cell_type": "code",
   "execution_count": 11,
   "id": "81eb2779",
   "metadata": {},
   "outputs": [],
   "source": [
    "labels = np.zeros(X.shape[0]) # with mask=0 \n",
    "labels[400:]=1.0"
   ]
  },
  {
   "cell_type": "code",
   "execution_count": 12,
   "id": "5d38b41b",
   "metadata": {},
   "outputs": [],
   "source": [
    "names = {0:\"Mask\",\n",
    "        1: \"No mask\"}"
   ]
  },
  {
   "cell_type": "code",
   "execution_count": 13,
   "id": "43069947",
   "metadata": {},
   "outputs": [],
   "source": [
    "#MACHINE LEARNING PART STARTED\n",
    "#TESTING\n",
    "#sklearn is scikit learn which has predefined models of ML"
   ]
  },
  {
   "cell_type": "code",
   "execution_count": 14,
   "id": "d18f1315",
   "metadata": {},
   "outputs": [],
   "source": [
    "#svm- Support Vector Machine\n",
    "#SVC- Support Vector Classification\n",
    "import sklearn.svm\n",
    "from sklearn.svm import SVC\n",
    "from sklearn.metrics import accuracy_score\n"
   ]
  },
  {
   "cell_type": "code",
   "execution_count": 15,
   "id": "ead4dd42",
   "metadata": {},
   "outputs": [],
   "source": [
    "from sklearn.model_selection import train_test_split"
   ]
  },
  {
   "cell_type": "code",
   "execution_count": 16,
   "id": "f025e86f",
   "metadata": {},
   "outputs": [],
   "source": [
    "x_train, x_test, y_train, y_test = train_test_split(X,labels, test_size=0.25)"
   ]
  },
  {
   "cell_type": "code",
   "execution_count": 17,
   "id": "43670d7a",
   "metadata": {},
   "outputs": [
    {
     "data": {
      "text/plain": [
       "(600, 7500)"
      ]
     },
     "execution_count": 17,
     "metadata": {},
     "output_type": "execute_result"
    }
   ],
   "source": [
    "x_train.shape #machine learning is applied on 600 images out of 800"
   ]
  },
  {
   "cell_type": "code",
   "execution_count": 18,
   "id": "73f2dd6c",
   "metadata": {},
   "outputs": [
    {
     "data": {
      "text/plain": [
       "SVC()"
      ]
     },
     "execution_count": 18,
     "metadata": {},
     "output_type": "execute_result"
    }
   ],
   "source": [
    "#on the remaining images out of 800, we will test our algorithm\n",
    "model =SVC()\n",
    "model.fit(x_train,y_train)"
   ]
  },
  {
   "cell_type": "code",
   "execution_count": 19,
   "id": "65c82638",
   "metadata": {},
   "outputs": [],
   "source": [
    "# x_test =pca.transform(x_test) #columns will be uptdated to 3 in x_test also\n",
    "y_pred = model.predict(x_test)"
   ]
  },
  {
   "cell_type": "code",
   "execution_count": 20,
   "id": "ee0b067f",
   "metadata": {},
   "outputs": [
    {
     "data": {
      "text/plain": [
       "0.87"
      ]
     },
     "execution_count": 20,
     "metadata": {},
     "output_type": "execute_result"
    }
   ],
   "source": [
    "accuracy_score(y_test, y_pred)"
   ]
  },
  {
   "cell_type": "code",
   "execution_count": 21,
   "id": "56f1b6e6",
   "metadata": {},
   "outputs": [],
   "source": [
    "haar_data =cv2.CascadeClassifier('haarcascade_frontalface_default.xml')"
   ]
  },
  {
   "cell_type": "code",
   "execution_count": 22,
   "id": "3d6a6482",
   "metadata": {},
   "outputs": [
    {
     "name": "stdout",
     "output_type": "stream",
     "text": [
      "No mask\n",
      "No mask\n",
      "No mask\n",
      "No mask\n",
      "No mask\n",
      "Mask\n",
      "No mask\n",
      "Mask\n",
      "Mask\n",
      "No mask\n",
      "Mask\n",
      "No mask\n",
      "No mask\n",
      "Mask\n",
      "No mask\n",
      "No mask\n",
      "Mask\n",
      "No mask\n",
      "Mask\n",
      "No mask\n",
      "No mask\n",
      "No mask\n",
      "No mask\n",
      "Mask\n",
      "No mask\n",
      "No mask\n",
      "Mask\n",
      "No mask\n",
      "Mask\n",
      "Mask\n",
      "Mask\n",
      "Mask\n",
      "Mask\n",
      "Mask\n",
      "Mask\n",
      "Mask\n",
      "Mask\n",
      "Mask\n",
      "Mask\n",
      "Mask\n",
      "Mask\n",
      "Mask\n",
      "Mask\n",
      "Mask\n",
      "No mask\n",
      "Mask\n",
      "Mask\n",
      "Mask\n",
      "Mask\n",
      "Mask\n",
      "Mask\n",
      "Mask\n",
      "No mask\n",
      "No mask\n",
      "No mask\n",
      "No mask\n",
      "No mask\n",
      "No mask\n",
      "Mask\n",
      "No mask\n",
      "Mask\n",
      "No mask\n",
      "No mask\n",
      "Mask\n",
      "No mask\n",
      "Mask\n",
      "No mask\n",
      "No mask\n",
      "Mask\n",
      "Mask\n",
      "No mask\n",
      "No mask\n",
      "Mask\n",
      "Mask\n",
      "Mask\n",
      "Mask\n",
      "No mask\n",
      "No mask\n",
      "Mask\n",
      "No mask\n",
      "No mask\n",
      "Mask\n",
      "No mask\n",
      "No mask\n",
      "No mask\n",
      "No mask\n",
      "No mask\n",
      "No mask\n",
      "Mask\n",
      "Mask\n",
      "Mask\n",
      "No mask\n",
      "No mask\n",
      "No mask\n",
      "No mask\n",
      "No mask\n",
      "No mask\n",
      "Mask\n",
      "No mask\n",
      "Mask\n",
      "No mask\n",
      "No mask\n",
      "No mask\n",
      "No mask\n",
      "No mask\n",
      "Mask\n",
      "No mask\n",
      "No mask\n",
      "Mask\n",
      "No mask\n",
      "Mask\n",
      "No mask\n",
      "No mask\n",
      "No mask\n",
      "No mask\n",
      "No mask\n",
      "Mask\n",
      "No mask\n",
      "Mask\n",
      "No mask\n",
      "No mask\n",
      "Mask\n",
      "No mask\n",
      "No mask\n",
      "No mask\n",
      "No mask\n",
      "No mask\n",
      "Mask\n",
      "No mask\n",
      "Mask\n",
      "Mask\n",
      "No mask\n",
      "Mask\n",
      "Mask\n",
      "No mask\n",
      "No mask\n",
      "No mask\n",
      "No mask\n",
      "No mask\n",
      "No mask\n",
      "Mask\n",
      "No mask\n",
      "Mask\n",
      "No mask\n",
      "Mask\n",
      "No mask\n",
      "Mask\n",
      "No mask\n",
      "Mask\n",
      "No mask\n",
      "Mask\n",
      "No mask\n",
      "Mask\n",
      "No mask\n",
      "No mask\n",
      "No mask\n",
      "No mask\n",
      "Mask\n",
      "No mask\n",
      "Mask\n",
      "Mask\n",
      "Mask\n",
      "No mask\n",
      "No mask\n",
      "No mask\n",
      "Mask\n",
      "No mask\n",
      "No mask\n",
      "Mask\n",
      "No mask\n",
      "Mask\n",
      "No mask\n",
      "No mask\n",
      "Mask\n",
      "No mask\n",
      "No mask\n",
      "No mask\n",
      "No mask\n",
      "No mask\n",
      "No mask\n",
      "No mask\n",
      "No mask\n",
      "No mask\n",
      "Mask\n",
      "Mask\n",
      "Mask\n",
      "Mask\n",
      "No mask\n",
      "Mask\n",
      "No mask\n",
      "No mask\n",
      "Mask\n",
      "No mask\n",
      "Mask\n",
      "No mask\n",
      "No mask\n",
      "Mask\n",
      "Mask\n",
      "No mask\n",
      "Mask\n",
      "Mask\n",
      "No mask\n",
      "Mask\n",
      "Mask\n",
      "No mask\n",
      "No mask\n",
      "Mask\n",
      "Mask\n",
      "No mask\n",
      "Mask\n",
      "No mask\n",
      "No mask\n",
      "Mask\n",
      "No mask\n",
      "No mask\n",
      "No mask\n",
      "No mask\n",
      "No mask\n",
      "No mask\n",
      "Mask\n",
      "No mask\n",
      "Mask\n",
      "Mask\n",
      "Mask\n",
      "No mask\n",
      "No mask\n",
      "No mask\n",
      "Mask\n",
      "No mask\n",
      "Mask\n",
      "No mask\n",
      "No mask\n",
      "No mask\n",
      "No mask\n",
      "No mask\n",
      "No mask\n",
      "No mask\n",
      "Mask\n",
      "No mask\n",
      "Mask\n",
      "Mask\n",
      "No mask\n",
      "No mask\n",
      "Mask\n",
      "Mask\n",
      "Mask\n",
      "Mask\n",
      "Mask\n",
      "Mask\n",
      "Mask\n",
      "Mask\n",
      "Mask\n",
      "Mask\n",
      "Mask\n",
      "Mask\n",
      "No mask\n",
      "Mask\n",
      "Mask\n",
      "Mask\n",
      "Mask\n",
      "Mask\n",
      "Mask\n",
      "Mask\n",
      "Mask\n",
      "Mask\n",
      "No mask\n",
      "No mask\n",
      "No mask\n",
      "No mask\n",
      "No mask\n",
      "No mask\n",
      "Mask\n",
      "Mask\n",
      "No mask\n",
      "No mask\n",
      "Mask\n",
      "No mask\n",
      "Mask\n",
      "No mask\n",
      "Mask\n",
      "No mask\n",
      "Mask\n",
      "No mask\n",
      "Mask\n",
      "Mask\n",
      "Mask\n",
      "No mask\n",
      "Mask\n",
      "No mask\n",
      "No mask\n",
      "Mask\n",
      "Mask\n",
      "No mask\n",
      "Mask\n",
      "Mask\n",
      "No mask\n",
      "No mask\n",
      "No mask\n",
      "Mask\n",
      "No mask\n",
      "Mask\n",
      "No mask\n",
      "No mask\n",
      "Mask\n",
      "No mask\n",
      "No mask\n",
      "No mask\n",
      "Mask\n",
      "Mask\n",
      "Mask\n",
      "No mask\n",
      "Mask\n",
      "No mask\n",
      "No mask\n",
      "Mask\n",
      "No mask\n",
      "No mask\n",
      "No mask\n",
      "Mask\n",
      "No mask\n",
      "Mask\n",
      "No mask\n",
      "No mask\n",
      "No mask\n",
      "Mask\n",
      "No mask\n",
      "No mask\n",
      "Mask\n",
      "Mask\n",
      "No mask\n",
      "Mask\n",
      "No mask\n",
      "No mask\n",
      "Mask\n",
      "No mask\n",
      "Mask\n",
      "No mask\n",
      "No mask\n",
      "No mask\n",
      "No mask\n",
      "Mask\n",
      "No mask\n",
      "No mask\n",
      "Mask\n",
      "No mask\n",
      "No mask\n",
      "No mask\n",
      "No mask\n",
      "No mask\n",
      "No mask\n",
      "Mask\n",
      "No mask\n",
      "No mask\n",
      "No mask\n",
      "No mask\n",
      "Mask\n",
      "No mask\n",
      "No mask\n",
      "No mask\n",
      "Mask\n",
      "No mask\n",
      "No mask\n",
      "Mask\n",
      "No mask\n",
      "No mask\n",
      "No mask\n",
      "Mask\n",
      "No mask\n",
      "No mask\n",
      "No mask\n",
      "No mask\n",
      "Mask\n"
     ]
    }
   ],
   "source": [
    "capture =cv2.VideoCapture(0)#0 for default\n",
    "                            #1 for choosing # video.mp4 for a video file\n",
    "data=[]\n",
    "font=cv2.FONT_HERSHEY_COMPLEX_SMALL\n",
    "while True:\n",
    "    flag, img =capture.read()\n",
    "    if flag:\n",
    "        faces= haar_data.detectMultiScale(img)\n",
    "        for x,y,w,h in faces:\n",
    "            cv2.rectangle(img,(x,y),(x+w,y+h),(200,5,200),1)\n",
    "            face = img[y:y+h,x:x+w,:]\n",
    "            \n",
    "            face= cv2.resize(face,(50,50))\n",
    "            #(50,50) is 50 by 50 dimension\n",
    "            face= face.reshape(1,-1)\n",
    "            \n",
    "            pred=model.predict(face) #predict 0 & 1\n",
    "            n= names[int(pred)]\n",
    "            cv2.putText(img, n, (x,y), font, 1, (244,250,255),2)\n",
    "            print(n)\n",
    "#             print(len(data)) #to get value of no. of face\n",
    "            \n",
    "#             if len(data)< 400: #400 face data can be stored on screen\n",
    "#                 data.append(face)\n",
    "        cv2.imshow('result',img) \n",
    "        if cv2.waitKey(2) == 27 :\n",
    "        #'27' is the ASCII value of escape\n",
    "\n",
    "            break\n",
    "            \n",
    "capture.release()\n",
    "cv2.destroyAllWindows()"
   ]
  },
  {
   "cell_type": "code",
   "execution_count": null,
   "id": "48d0d50d",
   "metadata": {},
   "outputs": [],
   "source": []
  }
 ],
 "metadata": {
  "kernelspec": {
   "display_name": "Python 3",
   "language": "python",
   "name": "python3"
  },
  "language_info": {
   "codemirror_mode": {
    "name": "ipython",
    "version": 3
   },
   "file_extension": ".py",
   "mimetype": "text/x-python",
   "name": "python",
   "nbconvert_exporter": "python",
   "pygments_lexer": "ipython3",
   "version": "3.8.8"
  }
 },
 "nbformat": 4,
 "nbformat_minor": 5
}
